{
 "cells": [
  {
   "cell_type": "code",
   "execution_count": 2,
   "id": "4ce44a2c",
   "metadata": {},
   "outputs": [
    {
     "name": "stdout",
     "output_type": "stream",
     "text": [
      "pair: (0, 'a')\n",
      "pair: (0, 'b')\n",
      "pair: (0, 'c')\n",
      "pair: (0, 'd')\n",
      "pair: (0, 'e')\n",
      "pair: (1, 'a')\n",
      "pair: (1, 'b')\n",
      "pair: (1, 'c')\n",
      "pair: (1, 'd')\n",
      "pair: (1, 'e')\n",
      "pair: (2, 'a')\n",
      "pair: (2, 'b')\n",
      "pair: (2, 'c')\n",
      "pair: (2, 'd')\n",
      "pair: (2, 'e')\n",
      "pair: (3, 'a')\n",
      "pair: (3, 'b')\n",
      "pair: (3, 'c')\n",
      "pair: (3, 'd')\n",
      "pair: (3, 'e')\n",
      "pair: (4, 'a')\n",
      "pair: (4, 'b')\n",
      "pair: (4, 'c')\n",
      "pair: (4, 'd')\n",
      "pair: (4, 'e')\n"
     ]
    }
   ],
   "source": [
    "# demo: Cartesian product of two Python sets\n",
    "from itertools import product\n",
    "a = [ 0, 1, 2, 3, 4 ]\n",
    "b = [ 'a', 'b', 'c', 'd', 'e' ]\n",
    "set_list = [ a, b ]\n",
    "\n",
    "cartesian = product(*set_list)\n",
    "for pair in cartesian:\n",
    "    print(\"pair: {}\".format(pair))"
   ]
  },
  {
   "cell_type": "code",
   "execution_count": 1,
   "id": "247f0134",
   "metadata": {},
   "outputs": [
    {
     "ename": "NameError",
     "evalue": "name 'b' is not defined",
     "output_type": "error",
     "traceback": [
      "\u001b[0;31m---------------------------------------------------------------------------\u001b[0m",
      "\u001b[0;31mNameError\u001b[0m                                 Traceback (most recent call last)",
      "\u001b[0;32m/tmp/ipykernel_5430/677146168.py\u001b[0m in \u001b[0;36m<module>\u001b[0;34m\u001b[0m\n\u001b[0;32m----> 1\u001b[0;31m \u001b[0mset_list2\u001b[0m \u001b[0;34m=\u001b[0m \u001b[0;34m[\u001b[0m \u001b[0mb\u001b[0m\u001b[0;34m,\u001b[0m \u001b[0ma\u001b[0m \u001b[0;34m]\u001b[0m\u001b[0;34m\u001b[0m\u001b[0;34m\u001b[0m\u001b[0m\n\u001b[0m\u001b[1;32m      2\u001b[0m \u001b[0mcartesian2\u001b[0m \u001b[0;34m=\u001b[0m \u001b[0mproduct\u001b[0m\u001b[0;34m(\u001b[0m\u001b[0;34m*\u001b[0m\u001b[0mset_list2\u001b[0m\u001b[0;34m)\u001b[0m\u001b[0;34m\u001b[0m\u001b[0;34m\u001b[0m\u001b[0m\n\u001b[1;32m      3\u001b[0m \u001b[0;32mfor\u001b[0m \u001b[0mpair\u001b[0m \u001b[0;32min\u001b[0m \u001b[0mcartesian2\u001b[0m\u001b[0;34m:\u001b[0m\u001b[0;34m\u001b[0m\u001b[0;34m\u001b[0m\u001b[0m\n\u001b[1;32m      4\u001b[0m     \u001b[0mprint\u001b[0m\u001b[0;34m(\u001b[0m\u001b[0;34m\"pair: {}\"\u001b[0m\u001b[0;34m.\u001b[0m\u001b[0mformat\u001b[0m\u001b[0;34m(\u001b[0m\u001b[0mpair\u001b[0m\u001b[0;34m)\u001b[0m\u001b[0;34m)\u001b[0m\u001b[0;34m\u001b[0m\u001b[0;34m\u001b[0m\u001b[0m\n",
      "\u001b[0;31mNameError\u001b[0m: name 'b' is not defined"
     ]
    }
   ],
   "source": [
    "set_list2 = [ b, a ]\n",
    "cartesian2 = product(*set_list2)\n",
    "for pair in cartesian2:\n",
    "    print(\"pair: {}\".format(pair))"
   ]
  },
  {
   "cell_type": "code",
   "execution_count": null,
   "id": "43b2c17a",
   "metadata": {},
   "outputs": [],
   "source": []
  }
 ],
 "metadata": {
  "kernelspec": {
   "display_name": "Python 3",
   "language": "python",
   "name": "python3"
  },
  "language_info": {
   "codemirror_mode": {
    "name": "ipython",
    "version": 3
   },
   "file_extension": ".py",
   "mimetype": "text/x-python",
   "name": "python",
   "nbconvert_exporter": "python",
   "pygments_lexer": "ipython3",
   "version": "3.9.7"
  }
 },
 "nbformat": 4,
 "nbformat_minor": 5
}
