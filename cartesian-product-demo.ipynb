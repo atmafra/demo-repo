{
 "cells": [
  {
   "cell_type": "code",
   "execution_count": 2,
   "id": "4ce44a2c",
   "metadata": {},
   "outputs": [],
   "source": [
    "# demo: Cartesian product of two Python sets"
   ]
  },
  {
   "cell_type": "code",
   "execution_count": 3,
   "id": "b3faf5de",
   "metadata": {},
   "outputs": [],
   "source": [
    "from itertools import product"
   ]
  },
  {
   "cell_type": "code",
   "execution_count": 4,
   "id": "e18c419c",
   "metadata": {},
   "outputs": [],
   "source": [
    "a = [ 0, 1, 2, 3, 4 ]\n",
    "b = [ 'a', 'b', 'c', 'd', 'e' ]\n",
    "set_list = [ a, b ]"
   ]
  },
  {
   "cell_type": "code",
   "execution_count": 5,
   "id": "6ec5eca8",
   "metadata": {},
   "outputs": [
    {
     "name": "stdout",
     "output_type": "stream",
     "text": [
      "pair: (0, 'a')\n",
      "pair: (0, 'b')\n",
      "pair: (0, 'c')\n",
      "pair: (0, 'd')\n",
      "pair: (0, 'e')\n",
      "pair: (1, 'a')\n",
      "pair: (1, 'b')\n",
      "pair: (1, 'c')\n",
      "pair: (1, 'd')\n",
      "pair: (1, 'e')\n",
      "pair: (2, 'a')\n",
      "pair: (2, 'b')\n",
      "pair: (2, 'c')\n",
      "pair: (2, 'd')\n",
      "pair: (2, 'e')\n",
      "pair: (3, 'a')\n",
      "pair: (3, 'b')\n",
      "pair: (3, 'c')\n",
      "pair: (3, 'd')\n",
      "pair: (3, 'e')\n",
      "pair: (4, 'a')\n",
      "pair: (4, 'b')\n",
      "pair: (4, 'c')\n",
      "pair: (4, 'd')\n",
      "pair: (4, 'e')\n"
     ]
    }
   ],
   "source": [
    "cartesian = product(*set_list)\n",
    "for pair in cartesian:\n",
    "    print(\"pair: {}\".format(pair))"
   ]
  },
  {
   "cell_type": "code",
   "execution_count": 6,
   "id": "247f0134",
   "metadata": {},
   "outputs": [
    {
     "name": "stdout",
     "output_type": "stream",
     "text": [
      "pair: ('a', 0)\n",
      "pair: ('a', 1)\n",
      "pair: ('a', 2)\n",
      "pair: ('a', 3)\n",
      "pair: ('a', 4)\n",
      "pair: ('b', 0)\n",
      "pair: ('b', 1)\n",
      "pair: ('b', 2)\n",
      "pair: ('b', 3)\n",
      "pair: ('b', 4)\n",
      "pair: ('c', 0)\n",
      "pair: ('c', 1)\n",
      "pair: ('c', 2)\n",
      "pair: ('c', 3)\n",
      "pair: ('c', 4)\n",
      "pair: ('d', 0)\n",
      "pair: ('d', 1)\n",
      "pair: ('d', 2)\n",
      "pair: ('d', 3)\n",
      "pair: ('d', 4)\n",
      "pair: ('e', 0)\n",
      "pair: ('e', 1)\n",
      "pair: ('e', 2)\n",
      "pair: ('e', 3)\n",
      "pair: ('e', 4)\n"
     ]
    }
   ],
   "source": [
    "set_list2 = [ b, a ]\n",
    "cartesian2 = product(*set_list2)\n",
    "for pair in cartesian2:\n",
    "    print(\"pair: {}\".format(pair))"
   ]
  },
  {
   "cell_type": "code",
   "execution_count": null,
   "id": "43b2c17a",
   "metadata": {},
   "outputs": [],
   "source": []
  }
 ],
 "metadata": {
  "kernelspec": {
   "display_name": "Python 3",
   "language": "python",
   "name": "python3"
  },
  "language_info": {
   "codemirror_mode": {
    "name": "ipython",
    "version": 3
   },
   "file_extension": ".py",
   "mimetype": "text/x-python",
   "name": "python",
   "nbconvert_exporter": "python",
   "pygments_lexer": "ipython3",
   "version": "3.9.7"
  }
 },
 "nbformat": 4,
 "nbformat_minor": 5
}
